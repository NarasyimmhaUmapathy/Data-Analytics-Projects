{
 "cells": [
  {
   "cell_type": "code",
   "execution_count": null,
   "metadata": {},
   "outputs": [],
   "source": [
    "df.info()\n",
    "df.describe() #always check for null values and format of columns"
   ]
  },
  {
   "cell_type": "code",
   "execution_count": null,
   "metadata": {},
   "outputs": [],
   "source": [
    "sns.countplot(x=\"label column\",data=df) #check for class balance"
   ]
  },
  {
   "cell_type": "code",
   "execution_count": null,
   "metadata": {},
   "outputs": [],
   "source": [
    "df.corr()[\"Label column\"].sort_values() #check for feature correlation"
   ]
  },
  {
   "cell_type": "code",
   "execution_count": null,
   "metadata": {},
   "outputs": [],
   "source": [
    "plt.figure(figsize=(12,8))\n",
    "sns.heatmap(df.corr())"
   ]
  },
  {
   "cell_type": "code",
   "execution_count": null,
   "metadata": {},
   "outputs": [],
   "source": [
    "X = df.drop(\"label column\",axis=1).values()\n",
    "y = df[\"label column\"].values()"
   ]
  },
  {
   "cell_type": "code",
   "execution_count": null,
   "metadata": {},
   "outputs": [],
   "source": [
    "from sklearn.model_selection import train_test_split"
   ]
  },
  {
   "cell_type": "code",
   "execution_count": null,
   "metadata": {},
   "outputs": [],
   "source": [
    "X_train,X_test,y_train,y_test = train_test_split(X,y,test_ration=0.3,random_state=101)"
   ]
  },
  {
   "cell_type": "code",
   "execution_count": null,
   "metadata": {},
   "outputs": [],
   "source": [
    "from sklearn.preprocessing import MinMaxScaler #RobustScaler is better\n",
    "\n",
    "scaler = MinMaxScaler()\n",
    "\n",
    "scaler.fit_transform(X_train)\n",
    "\n"
   ]
  },
  {
   "cell_type": "code",
   "execution_count": null,
   "metadata": {},
   "outputs": [],
   "source": [
    "X_test = scaler.transform(X_test)"
   ]
  },
  {
   "cell_type": "code",
   "execution_count": null,
   "metadata": {},
   "outputs": [],
   "source": [
    "from tensorflow.keras.models import Sequential\n",
    "from tensorflow.keras.layers import Dense,Dropout\n",
    "\n",
    "X.shape()\n",
    "\n",
    "model = Sequential()\n",
    "\n",
    "model.add(Dense(30,activation=\"relu\"))\n",
    "model.add(Dense(15,activation=\"relu\"))\n",
    "\n",
    "#end layer\n",
    "\n",
    "model.add(Dense(1,activation=\"sigmoid\"))\n",
    "\n",
    "model.compile(optimizer=\"adam\",loss=\"binary_crossentropy\") #optimizer for gradient function is adam"
   ]
  },
  {
   "cell_type": "code",
   "execution_count": null,
   "metadata": {},
   "outputs": [],
   "source": [
    "model.fit(x=X_train,y=y_train,epochs=650,validation_data=(X_test,y_test))"
   ]
  },
  {
   "cell_type": "code",
   "execution_count": null,
   "metadata": {},
   "outputs": [],
   "source": [
    "losses = pd.DataFrame(model.history.history) #checks for increasing validation loss even with reducing training loss.\n",
    "\n",
    "#overfitting is taking place due to lack of control from too many epoch runs and no randomized neuron deactivation.\n"
   ]
  },
  {
   "cell_type": "code",
   "execution_count": null,
   "metadata": {},
   "outputs": [],
   "source": [
    "from tensorflow.keras.callbacks import EarlyStopping\n",
    "\n",
    "earlystop = EarlyStopping(monitor=\"validation_loss\",mode=\"min\",verbose=1,patience=25) #what are you monitoring,what is good,and epoch cutoff post optimal param status change\n",
    "\n",
    "#verbose 1 is to visualize each epoch run\n",
    "model = Sequential()\n",
    "\n",
    "model.add(Dense(30,activation=\"relu\"))\n",
    "model.add(Dropout(0.5)) #common value between 0.2 and 0.5, dropout deactivates portion of neuros during each batch\n",
    "model.add(Dense(15,activation=\"relu\"))\n",
    "model.add(Dropout(0.5))\n",
    "\n",
    "\n",
    "#end layer\n",
    "\n",
    "model.add(Dense(1,activation=\"sigmoid\")) #for classification tasks, sigmoid gives out a prob of class belonging.\n",
    "\n",
    "model.compile(optimizer=\"adam\",loss=\"binary_crossentropy\")\n",
    "\n",
    "model.fit(x=X_train,y=y_train,epochs=600,validation_data=(X_test,y_test),callbacks=[earlystop]) #early stop prevents divergence of validation loss exceeding training loss"
   ]
  },
  {
   "cell_type": "code",
   "execution_count": null,
   "metadata": {},
   "outputs": [],
   "source": [
    "model_loss = pd.DataFrame(model.history.history)\n",
    "\n",
    "model_loss.plot()"
   ]
  },
  {
   "cell_type": "code",
   "execution_count": null,
   "metadata": {},
   "outputs": [],
   "source": [
    "predictions = model.predict(X_test)\n",
    "\n",
    "from sklearn.metrics import classification_report,confusion_matrix\n",
    "\n",
    "print(classification_report(y_test,predictions))  #small dataset, metrics not realistic."
   ]
  }
 ],
 "metadata": {
  "kernelspec": {
   "display_name": "Python 3",
   "language": "python",
   "name": "python3"
  },
  "language_info": {
   "codemirror_mode": {
    "name": "ipython",
    "version": 3
   },
   "file_extension": ".py",
   "mimetype": "text/x-python",
   "name": "python",
   "nbconvert_exporter": "python",
   "pygments_lexer": "ipython3",
   "version": "3.7.6"
  }
 },
 "nbformat": 4,
 "nbformat_minor": 4
}
