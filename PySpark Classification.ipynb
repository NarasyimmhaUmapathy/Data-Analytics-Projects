{
 "cells": [
  {
   "cell_type": "markdown",
   "metadata": {},
   "source": [
    "# Logistic regression\n",
    "\n",
    "classifier = LogisticRegression()\n",
    "\n",
    "#setting up paramgrid for crossvalidation\n",
    "\n",
    "paramgrid = (ParamGridBuilder().addGrid(classifier.maxIter,[10,15,20]).build()) #goes through 10 to 15 to 20 iterations\n",
    "\n",
    "#setting up crossvalidation\n",
    "\n",
    "crossvalidator = CrossValidator(estimator=classifier,estimatorParamMaps=paramGrid,evaluator=MC_evaluator,numFolds=3)\n",
    "\n",
    "#fit model\n",
    "\n",
    "fitModel = crossvalidator.fit(train)\n",
    "\n",
    "#best model\n",
    "\n",
    "bestModel = fitModel.bestModel\n",
    "\n",
    "print(\"Coefficient matrix\" + str(bestModel.coefficientMatrix))\n",
    "print(\"Intercept vector\" + str(bestModel.interceptVector))\n",
    "\n",
    "#evaluate test data\n",
    "\n",
    "predict = fitModel.transform(test)\n",
    "\n",
    "#accuracy\n",
    "\n",
    "accuracy = (MC_evaluator.evalute(predictions))*100\n",
    "\n"
   ]
  },
  {
   "cell_type": "markdown",
   "metadata": {},
   "source": [
    "1 vs Rest"
   ]
  },
  {
   "cell_type": "code",
   "execution_count": null,
   "metadata": {},
   "outputs": [],
   "source": [
    "lr = LogisticRegression()\n",
    "\n",
    "classifier = OnevsRest(classifier=lr)\n",
    "\n"
   ]
  }
 ],
 "metadata": {
  "kernelspec": {
   "display_name": "Python 3",
   "language": "python",
   "name": "python3"
  },
  "language_info": {
   "codemirror_mode": {
    "name": "ipython",
    "version": 3
   },
   "file_extension": ".py",
   "mimetype": "text/x-python",
   "name": "python",
   "nbconvert_exporter": "python",
   "pygments_lexer": "ipython3",
   "version": "3.7.6"
  }
 },
 "nbformat": 4,
 "nbformat_minor": 4
}
